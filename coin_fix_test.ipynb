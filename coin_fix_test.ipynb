{
 "cells": [
  {
   "cell_type": "markdown",
   "metadata": {},
   "source": [
    "# Prerequisites"
   ]
  },
  {
   "cell_type": "code",
   "execution_count": null,
   "metadata": {},
   "outputs": [],
   "source": [
    "!pip install coba"
   ]
  },
  {
   "cell_type": "code",
   "execution_count": null,
   "metadata": {},
   "outputs": [],
   "source": [
    "#install pyvw from the following branch: https://github.com/ataymano/vowpal_wabbit/tree/ataymano/coin_fix_conditional1"
   ]
  },
  {
   "cell_type": "markdown",
   "metadata": {},
   "source": [
    "# Benchmark configuration"
   ]
  },
  {
   "cell_type": "code",
   "execution_count": null,
   "metadata": {},
   "outputs": [],
   "source": [
    "benchmark_file='benchmark_long.json'"
   ]
  },
  {
   "cell_type": "markdown",
   "metadata": {},
   "source": [
    "# Epsilon-greedy + coin"
   ]
  },
  {
   "cell_type": "code",
   "execution_count": null,
   "metadata": {
    "tags": [
     "ignore-output"
    ]
   },
   "outputs": [],
   "source": [
    "from coba.learners import VowpalLearner\n",
    "from coba.benchmarks import Benchmark\n",
    "\n",
    "flags = ''\n",
    "\n",
    "benchmark = Benchmark.from_file(benchmark_file)\n",
    "learners = [\n",
    "    VowpalLearner(epsilon=0.2, seed=10, flags = f'{flags} --coin'),\n",
    "    VowpalLearner(epsilon=0.2, seed=10, flags = f'{flags} --coin --with_coin_fix'),       \n",
    "]\n",
    "\n",
    "epsilon_greedy_result = benchmark.evaluate(learners, f'logs/{benchmark_file}-{str(learners[0].params)}.log', seed=10)"
   ]
  },
  {
   "cell_type": "code",
   "execution_count": null,
   "metadata": {
    "scrolled": true
   },
   "outputs": [],
   "source": [
    "epsilon_greedy_result.standard_plot(figsize = [16,8])"
   ]
  },
  {
   "cell_type": "markdown",
   "metadata": {},
   "source": [
    "# SquareCB + coin"
   ]
  },
  {
   "cell_type": "code",
   "execution_count": null,
   "metadata": {
    "tags": [
     "ignore-output"
    ]
   },
   "outputs": [],
   "source": [
    "from coba.learners import VowpalLearner\n",
    "from coba.benchmarks import Benchmark\n",
    "\n",
    "flags = '--squarecb'\n",
    "\n",
    "benchmark = Benchmark.from_file(benchmark_file)\n",
    "learners = [\n",
    "    VowpalLearner(epsilon=0.02, seed=10, flags = f'{flags} --coin'),\n",
    "    VowpalLearner(epsilon=0.02, seed=10, flags = f'{flags} --coin --with_coin_fix'),       \n",
    "]\n",
    "\n",
    "squarecb_result = benchmark.evaluate(learners, f'logs/{benchmark_file}-{str(learners[0].params)}.log', seed=10)"
   ]
  },
  {
   "cell_type": "code",
   "execution_count": null,
   "metadata": {},
   "outputs": [],
   "source": [
    "squarecb_result.standard_plot(figsize = [16,8])"
   ]
  },
  {
   "cell_type": "markdown",
   "metadata": {},
   "source": [
    "# Bag + coin"
   ]
  },
  {
   "cell_type": "code",
   "execution_count": null,
   "metadata": {
    "tags": [
     "ignore-output"
    ]
   },
   "outputs": [],
   "source": [
    "from coba.learners import VowpalLearner\n",
    "from coba.benchmarks import Benchmark\n",
    "\n",
    "flags = ''\n",
    "\n",
    "benchmark = Benchmark.from_file(benchmark_file)\n",
    "learners = [\n",
    "    VowpalLearner(bag=5, seed=10, flags = f'{flags} --coin'),\n",
    "    VowpalLearner(bag=5, seed=10, flags = f'{flags} --coin --with_coin_fix'),       \n",
    "]\n",
    "\n",
    "bag_result = benchmark.evaluate(learners, f'logs/{benchmark_file}-{str(learners[0].params)}.log', seed=10)"
   ]
  },
  {
   "cell_type": "code",
   "execution_count": null,
   "metadata": {},
   "outputs": [],
   "source": [
    "bag_result.standard_plot(figsize = [16,8])"
   ]
  },
  {
   "cell_type": "markdown",
   "metadata": {},
   "source": [
    "# Synthcover + coin"
   ]
  },
  {
   "cell_type": "code",
   "execution_count": null,
   "metadata": {
    "tags": [
     "ignore-output"
    ]
   },
   "outputs": [],
   "source": [
    "from coba.learners import VowpalLearner\n",
    "from coba.benchmarks import Benchmark\n",
    "\n",
    "flags = '--synthcover'\n",
    "\n",
    "benchmark = Benchmark.from_file(benchmark_file)\n",
    "learners = [\n",
    "    VowpalLearner(epsilon=0.02, seed=10, flags = f'{flags} --coin'),\n",
    "    VowpalLearner(epsilon=0.02, seed=10, flags = f'{flags} --coin --with_coin_fix'),       \n",
    "]\n",
    "\n",
    "synthcover_result = benchmark.evaluate(learners, f'logs/{benchmark_file}-{str(learners[0].params)}.log', seed=10)"
   ]
  },
  {
   "cell_type": "code",
   "execution_count": null,
   "metadata": {},
   "outputs": [],
   "source": [
    "synthcover_result.standard_plot(figsize = [16,8])"
   ]
  },
  {
   "cell_type": "markdown",
   "metadata": {},
   "source": [
    "# Softmax + coin"
   ]
  },
  {
   "cell_type": "code",
   "execution_count": null,
   "metadata": {
    "tags": [
     "ignore-output"
    ]
   },
   "outputs": [],
   "source": [
    "from coba.learners import VowpalLearner\n",
    "from coba.benchmarks import Benchmark\n",
    "\n",
    "flags = ''\n",
    "\n",
    "benchmark = Benchmark.from_file(benchmark_file)\n",
    "learners = [\n",
    "    VowpalLearner(softmax=10, seed=10, flags = f'{flags} --coin'),\n",
    "    VowpalLearner(softmax=10, seed=10, flags = f'{flags} --coin --with_coin_fix'),       \n",
    "]\n",
    "\n",
    "softmax_result = benchmark.evaluate(learners, f'logs/{benchmark_file}-{str(learners[0].params)}.log', seed=10)"
   ]
  },
  {
   "cell_type": "code",
   "execution_count": null,
   "metadata": {},
   "outputs": [],
   "source": [
    "softmax_result.standard_plot(figsize = [16,8])"
   ]
  },
  {
   "cell_type": "markdown",
   "metadata": {},
   "source": [
    "# Cover + coin"
   ]
  },
  {
   "cell_type": "code",
   "execution_count": null,
   "metadata": {
    "tags": [
     "ignore-output"
    ]
   },
   "outputs": [],
   "source": [
    "from coba.learners import VowpalLearner\n",
    "from coba.benchmarks import Benchmark\n",
    "\n",
    "flags = ''\n",
    "\n",
    "benchmark = Benchmark.from_file(benchmark_file)\n",
    "learners = [\n",
    "    VowpalLearner(cover=3, seed=10, flags = f'{flags} --coin'),\n",
    "    VowpalLearner(cover=3, seed=10, flags = f'{flags} --coin --with_coin_fix'),       \n",
    "]\n",
    "\n",
    "cover_result = benchmark.evaluate(learners, f'logs/{benchmark_file}-{str(learners[0].params)}.log', seed=10)"
   ]
  },
  {
   "cell_type": "code",
   "execution_count": null,
   "metadata": {},
   "outputs": [],
   "source": [
    "cover_result.standard_plot(figsize = [16,8])"
   ]
  },
  {
   "cell_type": "code",
   "execution_count": null,
   "metadata": {
    "tags": [
     "ignore"
    ]
   },
   "outputs": [],
   "source": [
    "from traitlets.config import Config\n",
    "import nbformat as nbf\n",
    "\n",
    "from nbconvert.exporters import HTMLExporter\n",
    "from nbconvert.preprocessors import TagRemovePreprocessor\n",
    "\n",
    "c = Config()\n",
    "\n",
    "c.TagRemovePreprocessor.remove_all_outputs_tags=('ignore-output',)\n",
    "c.TagRemovePreprocessor.remove_cell_tags=('ignore',)\n",
    "c.NotebookExporter.preprocessors = [\"nbconvert.preprocessors.TagRemovePreprocessor\"]\n",
    "exporter = HTMLExporter(config=c)\n",
    "exporter.register_preprocessor(TagRemovePreprocessor(config=c),True)\n",
    "\n",
    "html_data, resources = exporter.from_filename('coin_fix_test.ipynb')\n",
    "\n",
    "with open('coin_fix_test.html', 'w') as f:\n",
    "    f.write(html_data)\n",
    "    f.close()"
   ]
  },
  {
   "cell_type": "code",
   "execution_count": null,
   "metadata": {},
   "outputs": [],
   "source": []
  }
 ],
 "metadata": {
  "celltoolbar": "Tags",
  "kernelspec": {
   "display_name": "Python 3.8.5 64-bit",
   "language": "python",
   "name": "python38564bitfd59076926044bd899f4541e1d3f6749"
  },
  "language_info": {
   "codemirror_mode": {
    "name": "ipython",
    "version": 3
   },
   "file_extension": ".py",
   "mimetype": "text/x-python",
   "name": "python",
   "nbconvert_exporter": "python",
   "pygments_lexer": "ipython3",
   "version": "3.8.6"
  }
 },
 "nbformat": 4,
 "nbformat_minor": 2
}